{
 "cells": [
  {
   "cell_type": "markdown",
   "metadata": {},
   "source": [
    "Lets build a model!"
   ]
  },
  {
   "cell_type": "code",
   "execution_count": null,
   "metadata": {},
   "outputs": [],
   "source": [
    "!wget https://download.blender.org/release/Blender2.82/blender-2.82a-linux64.tar.xz blender-2.82a-linux64.tar.xz"
   ]
  },
  {
   "cell_type": "code",
   "execution_count": null,
   "metadata": {
    "scrolled": false
   },
   "outputs": [],
   "source": [
    "!tar xvf blender-2.82a-linux64.tar.xz\n"
   ]
  },
  {
   "cell_type": "code",
   "execution_count": null,
   "metadata": {},
   "outputs": [],
   "source": [
    "!cd blender-2.82a-linux64/2.82/python/bin && ./python3.7m -m ensurepip && ./python3.7m pip3 install opencv-python && ./python3.7m pip3 install --upgrade Pillow && ./python3.7m pip3 install --upgrade boto3 \n"
   ]
  },
  {
   "cell_type": "code",
   "execution_count": null,
   "metadata": {},
   "outputs": [],
   "source": [
    "!sudo docker build --tag odin ./"
   ]
  },
  {
   "cell_type": "code",
   "execution_count": null,
   "metadata": {},
   "outputs": [],
   "source": [
    "!sudo docker stop odin-container"
   ]
  },
  {
   "cell_type": "code",
   "execution_count": 6,
   "metadata": {},
   "outputs": [],
   "source": [
    "\n",
    "bucket=\"handtools-mini\"\n",
    "rotation_theta=1\n",
    "upper_bound=4\n",
    "rotation_type='X'\n",
    "start_index=0\n",
    "import time\n",
    "timestamp = int(round(time.time() * 1000))\n"
   ]
  },
  {
   "cell_type": "code",
   "execution_count": null,
   "metadata": {},
   "outputs": [],
   "source": [
    "!echo $timestamp"
   ]
  },
  {
   "cell_type": "code",
   "execution_count": null,
   "metadata": {},
   "outputs": [],
   "source": [
    "!date +\"%T\""
   ]
  },
  {
   "cell_type": "code",
   "execution_count": null,
   "metadata": {},
   "outputs": [],
   "source": [
    "!sudo docker run --rm --publish 8080:8080/tcp -e AWS_ACCESS_KEY_ID=$AWS_ACCESS_KEY_ID -e AWS_SECRET_ACCESS_KEY=$AWS_SECRET_ACCESS_KEY --name odin-container odin $rotation_theta $bucket $rotation_type $upper_bound $timestamp $start_index \n",
    "    \n",
    "    \n",
    "    "
   ]
  },
  {
   "cell_type": "code",
   "execution_count": null,
   "metadata": {},
   "outputs": [],
   "source": [
    "!date +\"%T\""
   ]
  },
  {
   "cell_type": "code",
   "execution_count": null,
   "metadata": {},
   "outputs": [],
   "source": [
    "\n",
    "%%bash\n",
    "region=us-east-1\n",
    "sudo $(aws ecr get-login --region ${region} --no-include-email)\n",
    "\n",
    "image=odin\n",
    "account=$(aws sts get-caller-identity --query Account --output text)\n",
    "fullname=\"${account}.dkr.ecr.${region}.amazonaws.com/${image}:latest\"\n",
    "#aws ecr --region ${region} create-repository --repository-name \"${image}\"\n",
    "sudo aws ecr batch-delete-image --repository-name $image --image-ids imageTag=latest\n",
    "sudo docker tag ${image} ${fullname}\n",
    "sudo docker push ${fullname}\n"
   ]
  },
  {
   "cell_type": "code",
   "execution_count": 48,
   "metadata": {},
   "outputs": [
    {
     "name": "stdout",
     "output_type": "stream",
     "text": [
      "finished writing template: step_function_1588602572884.json\n"
     ]
    }
   ],
   "source": [
    "#Generate Step-functions template\n",
    "#axes=['X','Y','Z']\n",
    "axes=['X','Y','Z']\n",
    "cluster='arn:aws:ecs:us-east-1:056149205531:cluster/default'\n",
    "task_definition='arn:aws:ecs:us-east-1:056149205531:task-definition/Odin:2'\n",
    "job_name='job_'+str(timestamp)+\"_1\"\n",
    "bucket='handtools-mini'\n",
    "step_function_file_name='step_function_'+str(timestamp)+'.json'\n",
    "divisions=9\n",
    "step_size=360/divisions\n",
    "final_template=''\n",
    "def generate_step_function_template():\n",
    "    \n",
    "    templates=''\n",
    "    task_template=''\n",
    "    \n",
    "    with open('task_template.json', 'r') as file:\n",
    "        task_template = file.read()\n",
    "    \n",
    "    for axis in axes:\n",
    "        for i in range(0,divisions):\n",
    "            if i==0:\n",
    "                start_angle=0\n",
    "            else:\n",
    "                start_angle=i*step_size+1\n",
    "                \n",
    "            stop_angle=(i+1)*step_size\n",
    "\n",
    "            #print(start,'-',stop)\n",
    "            template=task_template.replace('TASK_AXIS', axis)\n",
    "            template=template.replace('BUCKET', bucket)\n",
    "            template=template.replace('TASK_DEFINITION', task_definition)\n",
    "            template=template.replace('JOB_NAME', job_name)\n",
    "            template=template.replace('CLUSTER_ARN', cluster)\n",
    "            template=template.replace('START_ANGLE', str(int(start_angle)))\n",
    "            template=template.replace('STOP_ANGLE', str(int(stop_angle)))\n",
    "\n",
    "            if(len(templates)>0):\n",
    "                templates = templates+\",\" +template\n",
    "            else:\n",
    "                templates=template\n",
    "    step_function_template=''\n",
    "    with open('step_function_template.json', 'r') as file:\n",
    "        step_function_template = file.read()\n",
    "    final_template=step_function_template.replace('INSERT_ECS_TASK_BRANCHES_HERE',templates)\n",
    "\n",
    "    f = open(step_function_file_name, \"w\")\n",
    "    f.write(final_template)\n",
    "    f.close()\n",
    "    print('finished writing template: '+step_function_file_name)\n",
    "generate_step_function_template()    \n"
   ]
  },
  {
   "cell_type": "code",
   "execution_count": 49,
   "metadata": {},
   "outputs": [],
   "source": [
    "state_machine_arn='arn:aws:states:us-east-1:056149205531:stateMachine:MyStateMachine'"
   ]
  },
  {
   "cell_type": "code",
   "execution_count": 50,
   "metadata": {},
   "outputs": [
    {
     "name": "stdout",
     "output_type": "stream",
     "text": [
      "{\r\n",
      "    \"updateDate\": 1588612450.382\r\n",
      "}\r\n"
     ]
    }
   ],
   "source": [
    "!aws stepfunctions  update-state-machine --state-machine-arn $state_machine_arn --definition file://$step_function_file_name\n"
   ]
  },
  {
   "cell_type": "code",
   "execution_count": 51,
   "metadata": {},
   "outputs": [
    {
     "name": "stdout",
     "output_type": "stream",
     "text": [
      "{\r\n",
      "    \"executionArn\": \"arn:aws:states:us-east-1:056149205531:execution:MyStateMachine:8a90844f-941c-42ba-8ebf-5279f16fa5d2\",\r\n",
      "    \"startDate\": 1588612482.538\r\n",
      "}\r\n"
     ]
    }
   ],
   "source": [
    "!aws stepfunctions start-execution --state-machine-arn $state_machine_arn"
   ]
  },
  {
   "cell_type": "code",
   "execution_count": null,
   "metadata": {},
   "outputs": [],
   "source": [
    "!blender-2.82a-linux64/blender --background -b -noaudio -E CYCLES --python euler_engine.py -- 2 A handtools 1"
   ]
  },
  {
   "cell_type": "code",
   "execution_count": null,
   "metadata": {},
   "outputs": [],
   "source": [
    "#To see logs of the container, run following command.\n",
    "!docker logs odin-container"
   ]
  }
 ],
 "metadata": {
  "kernelspec": {
   "display_name": "conda_python3",
   "language": "python",
   "name": "conda_python3"
  },
  "language_info": {
   "codemirror_mode": {
    "name": "ipython",
    "version": 3
   },
   "file_extension": ".py",
   "mimetype": "text/x-python",
   "name": "python",
   "nbconvert_exporter": "python",
   "pygments_lexer": "ipython3",
   "version": "3.6.5"
  }
 },
 "nbformat": 4,
 "nbformat_minor": 4
}
